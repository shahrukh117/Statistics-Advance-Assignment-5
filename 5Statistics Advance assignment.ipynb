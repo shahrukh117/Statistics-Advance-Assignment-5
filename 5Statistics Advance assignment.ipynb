{
 "cells": [
  {
   "cell_type": "markdown",
   "id": "d6c0f878-a755-426c-b2a7-8e1995aee14b",
   "metadata": {},
   "source": [
    "### Q1. Calculate the 95% confidence interval for a sample of data with a mean of 50 and a standard deviation of 5 using Python. Interpret the results."
   ]
  },
  {
   "cell_type": "code",
   "execution_count": 1,
   "id": "d6d417df-ec45-4948-8e5f-fe20a37508f1",
   "metadata": {},
   "outputs": [
    {
     "name": "stdout",
     "output_type": "stream",
     "text": [
      "95% Confidence Interval: (49.02001800772997, 50.97998199227003)\n"
     ]
    }
   ],
   "source": [
    "import scipy.stats as stats\n",
    "\n",
    "# Sample statistics\n",
    "sample_mean = 50\n",
    "sample_std = 5\n",
    "n = 100  # Sample size\n",
    "#alpha = 0.05\n",
    "confidence_level = 0.95\n",
    "\n",
    "# Z-score for 95% confidence interval\n",
    "z = stats.norm.ppf((1 + confidence_level) / 2)  \n",
    "\n",
    "# Calculate margin of error\n",
    "margin_of_error = z * (sample_std / (n ** 0.5))\n",
    "\n",
    "# Calculate confidence interval\n",
    "confidence_interval = (sample_mean - margin_of_error, sample_mean + margin_of_error)\n",
    "\n",
    "print(\"95% Confidence Interval:\", confidence_interval)\n"
   ]
  },
  {
   "cell_type": "markdown",
   "id": "b276544b-d1fc-4afc-94f4-487b85eebfb0",
   "metadata": {},
   "source": [
    "### Q2. Conduct a chi-square goodness of fit test to determine if the distribution of colors of M&Ms in a bag matches the expected distribution of 20% blue, 20% orange, 20% green, 10% yellow, 10% red, and 20% brown. Use Python to perform the test with a significance level of 0.05."
   ]
  },
  {
   "cell_type": "code",
   "execution_count": 2,
   "id": "4909eadd-3541-4c11-af3a-1f527217d118",
   "metadata": {},
   "outputs": [
    {
     "name": "stdout",
     "output_type": "stream",
     "text": [
      "Chi-square statistic: 0.0\n",
      "p-value: 1.0\n",
      "Fail to reject null hypothesis: Observed distribution may fit the expected.\n"
     ]
    }
   ],
   "source": [
    "from scipy.stats import chi2_contingency\n",
    "\n",
    "# Expected distribution (percentages converted to proportions)\n",
    "expected = [0.2, 0.2, 0.2, 0.1, 0.1, 0.2]\n",
    "\n",
    "# Replace with  actual counts of M&Ms in each color category\n",
    "observed = [  # Example counts (replace with data)\n",
    "    25,      # Blue\n",
    "    20,      # Orange\n",
    "    18,      # Green\n",
    "    12,      # Yellow\n",
    "    15,      # Red\n",
    "    30       # Brown\n",
    "]\n",
    "\n",
    "# Perform chi-square test\n",
    "chi2, pval, deg_of_freedom, expected_freqs = chi2_contingency([observed])\n",
    "\n",
    "# Set significance level\n",
    "alpha = 0.05\n",
    "\n",
    "print(\"Chi-square statistic:\", chi2)\n",
    "print(\"p-value:\", pval)\n",
    "\n",
    "if pval < alpha:\n",
    "    print(\"Reject null hypothesis: Observed distribution significantly differs from expected.\")\n",
    "else:\n",
    "    print(\"Fail to reject null hypothesis: Observed distribution may fit the expected.\")\n"
   ]
  },
  {
   "cell_type": "markdown",
   "id": "b54c0cd0-88bc-4691-ab0a-440416fdcd07",
   "metadata": {},
   "source": [
    "### Anas 3"
   ]
  },
  {
   "cell_type": "code",
   "execution_count": 3,
   "id": "6de1bbf5-5af4-4eee-b4b2-2e371e5b8304",
   "metadata": {},
   "outputs": [
    {
     "name": "stdout",
     "output_type": "stream",
     "text": [
      "Chi Square value : 5.833333333333334\n",
      "P value : 0.05411376622282158\n",
      "Indepdent (Hold true)\n"
     ]
    }
   ],
   "source": [
    "from scipy.stats import chi2_contingency\n",
    "\n",
    "data = [[20,15],[10,25],[15,20]]\n",
    "\n",
    "# Calculate chi-square statistic and p-value\n",
    "chi2, p, dof, expected = chi2_contingency(data)\n",
    "\n",
    "# interpret the result\n",
    "alpha = 0.05\n",
    "\n",
    "print(\"Chi Square value :\", chi2)\n",
    "\n",
    "print(\"P value :\", p)\n",
    "\n",
    "if p <= alpha:\n",
    "    \n",
    "    print(\"Dependent (Reject the null hypothesis)\")\n",
    "else:\n",
    "    print(\"Indepdent (Hold true)\")"
   ]
  },
  {
   "cell_type": "markdown",
   "id": "022ad01a-8b4b-49be-ba25-0423a2b00e91",
   "metadata": {},
   "source": [
    "### Q4. A study of the prevalence of smoking in a population of 500 individuals found that 60 individuals smoked. Use Python to calculate the 95% confidence interval for the true proportion of individuals in the population who smoke."
   ]
  },
  {
   "cell_type": "code",
   "execution_count": 4,
   "id": "2d0c2ed9-b7a9-411e-be0c-08919ae84798",
   "metadata": {},
   "outputs": [
    {
     "name": "stdout",
     "output_type": "stream",
     "text": [
      "The 95% confidence interval for the true proportion of individuals who smoke is (0.0915, 0.1485)\n"
     ]
    }
   ],
   "source": [
    "import scipy.stats as stats\n",
    "import numpy as np\n",
    "\n",
    "# Number of individuals in the population\n",
    "sample_size = 500\n",
    "\n",
    "# Number of individuals who smoke\n",
    "smokers = 60\n",
    "\n",
    "confidence_level = 0.95\n",
    "\n",
    "# Calculate the sample proportion\n",
    "p_hat = smokers / sample_size\n",
    "\n",
    "# calculate the standard error\n",
    "stand_error = np.sqrt((p_hat*(1 - p_hat))/sample_size)\n",
    "\n",
    "# calculate the z-score for 95% confidence interval\n",
    "z = stats.norm.ppf(1 - (1 - confidence_level) / 2)\n",
    "\n",
    "# calculate the margin of error\n",
    "margin_of_error = z*stand_error\n",
    "\n",
    "# Calculate the confidence interval\n",
    "\n",
    "lower_bound = p_hat - margin_of_error\n",
    "upper_bound = p_hat + margin_of_error\n",
    "\n",
    "print(f\"The 95% confidence interval for the true proportion of individuals who smoke is ({lower_bound:.4f}, {upper_bound:.4f})\")"
   ]
  },
  {
   "cell_type": "markdown",
   "id": "e816c14c-107e-4f36-89c0-fe5da209303a",
   "metadata": {},
   "source": [
    "### Q5. Calculate the 90% confidence interval for a sample of data with a mean of 75 and a standard deviation of 12 using Python. Interpret the results."
   ]
  },
  {
   "cell_type": "code",
   "execution_count": 5,
   "id": "1614b83f-2207-4da9-aeb5-ae75c5e78917",
   "metadata": {},
   "outputs": [
    {
     "name": "stdout",
     "output_type": "stream",
     "text": [
      "The 90% confidence interval for the sample mean is (55.2618, 94.7382)\n"
     ]
    }
   ],
   "source": [
    "sample_mean = 75\n",
    "\n",
    "std = 12\n",
    "\n",
    "confidence_level = 0.90\n",
    "\n",
    "sample_size = 1 # assuming only 1 sample size\n",
    "\n",
    "# calculate the standard error\n",
    "se = std/np.sqrt(sample_size)\n",
    "\n",
    "# calculate the z-score\n",
    "z = stats.norm.ppf(1 - (1 - confidence_level)/2)\n",
    "\n",
    "# calculate the margin of error\n",
    "margin_of_error = z*se\n",
    "\n",
    "# calculate the confidence interval\n",
    "lower_bound = sample_mean - margin_of_error\n",
    "upper_bound = sample_mean + margin_of_error\n",
    "\n",
    "print(f\"The 90% confidence interval for the sample mean is ({lower_bound:.4f}, {upper_bound:.4f})\")"
   ]
  },
  {
   "cell_type": "markdown",
   "id": "1a724223-b228-4db5-b3ec-5f03d2e229f8",
   "metadata": {},
   "source": [
    "### Q6. Use Python to plot the chi-square distribution with 10 degrees of freedom. Label the axes and shade the area corresponding to a chi-square statistic of 15."
   ]
  },
  {
   "cell_type": "code",
   "execution_count": 6,
   "id": "5f53663c-8331-42e8-aee0-5de3a1fa4af3",
   "metadata": {},
   "outputs": [
    {
     "data": {
      "image/png": "[encoded data removed]",
      "text/plain": [
       "<Figure size 640x480 with 1 Axes>"
      ]
     },
     "metadata": {},
     "output_type": "display_data"
    }
   ],
   "source": [
    "import matplotlib.pyplot as plt\n",
    "from scipy.stats import chi2\n",
    "\n",
    "# Degrees of freedom\n",
    "df = 10\n",
    "\n",
    "# Chi-square statistic for shading\n",
    "chi_sq_stat = 15\n",
    "\n",
    "# Generate x-axis values\n",
    "x = np.linspace(0, 30, 500)  # Adjust upper limit for better visualization at higher chi-square values\n",
    "\n",
    "# Calculate probability density function (PDF)\n",
    "pdf = chi2.pdf(x, df)\n",
    "\n",
    "# Plot the PDF\n",
    "plt.plot(x, pdf, label=\"Chi-Square Distribution (df=10)\")\n",
    "\n",
    "# Shade the area above chi_sq_stat\n",
    "plt.fill_between(x, pdf, color='gray', alpha=0.3, label='Chi-square statistic < 15', where=(x <= chi_sq_stat))\n",
    "\n",
    "# Label axes and add title\n",
    "plt.xlabel(\"Chi-Square Statistic\")\n",
    "plt.ylabel(\"Probability Density\")\n",
    "plt.title(\"Chi-Square Distribution (df=10) with Shaded Area (<= 15)\")\n",
    "\n",
    "# Add legend\n",
    "plt.legend()\n",
    "\n",
    "# Show the plot\n",
    "plt.grid(True)\n",
    "plt.show()\n"
   ]
  },
  {
   "cell_type": "markdown",
   "id": "4a4c8855-364c-448f-95b6-2741ea1b99ce",
   "metadata": {},
   "source": [
    "### Q7. A random sample of 1000 people was asked if they preferred Coke or Pepsi. Of the sample, 520 preferred Coke. Calculate a 99% confidence interval for the true proportion of people in the population who prefer Coke."
   ]
  },
  {
   "cell_type": "code",
   "execution_count": 7,
   "id": "2c128bbb-6a8f-4b57-89d3-9e8ca70e214d",
   "metadata": {},
   "outputs": [
    {
     "name": "stdout",
     "output_type": "stream",
     "text": [
      "The 99% confidence interval for the true proportion of people who prefer coke: (0.4636, 0.5764)\n"
     ]
    }
   ],
   "source": [
    "n = 1000\n",
    "coke_preferred = 520\n",
    "confidence_level = 0.99\n",
    "\n",
    "# sample proportion\n",
    "p_hat = coke_preferred/n\n",
    "\n",
    "# standard error\n",
    "se = np.sqrt(p_hat*(1 - p_hat)/coke_preferred)\n",
    "\n",
    "# z-score \n",
    "z = stats.norm.ppf(1 - (1 - confidence_level)/2)\n",
    "\n",
    "margin_of_error = z*se\n",
    "\n",
    "lower_bound = p_hat - margin_of_error\n",
    "upper_bound = p_hat + margin_of_error\n",
    "\n",
    "print(f\"The 99% confidence interval for the true proportion of people who prefer coke: ({lower_bound:.4f}, {upper_bound:.4f})\")"
   ]
  },
  {
   "cell_type": "markdown",
   "id": "3491959c-1d0a-4e51-98ae-ea92bd8ccfe2",
   "metadata": {},
   "source": [
    "### Q8. A researcher hypothesizes that a coin is biased towards tails. They flip the coin 100 times and observe 45 tails. Conduct a chi-square goodness of fit test to determine if the observed frequencies match the expected frequencies of a fair coin. Use a significance level of 0.05."
   ]
  },
  {
   "cell_type": "code",
   "execution_count": 8,
   "id": "de92ebcf-04ca-4638-8e14-1513a56f9b4e",
   "metadata": {},
   "outputs": [
    {
     "name": "stdout",
     "output_type": "stream",
     "text": [
      "Fail to reject the null hypothesis. The coin is fair.\n"
     ]
    }
   ],
   "source": [
    "from scipy.stats import chi2\n",
    "\n",
    "# Given data\n",
    "observed_tails = 45\n",
    "total_flips = 100\n",
    "expected_tails = total_flips * 0.5  # For a fair coin, expected tails is 50\n",
    "\n",
    "# Step 3: Compute Chi-Square Statistic\n",
    "chi_square_statistic = ((observed_tails - expected_tails) ** 2) / expected_tails\n",
    "\n",
    "# Step 4: Determine critical value\n",
    "df = 1  # degrees of freedom (number of categories - 1)\n",
    "alpha = 0.05  # significance level\n",
    "critical_value = chi2.ppf(1 - alpha, df)\n",
    "\n",
    "# Step 5: Make a Decision\n",
    "if chi_square_statistic > critical_value:\n",
    "    print(\"Reject the null hypothesis. The coin is biased towards tails.\")\n",
    "else:\n",
    "    print(\"Fail to reject the null hypothesis. The coin is fair.\")\n"
   ]
  },
  {
   "cell_type": "markdown",
   "id": "9c0431d8-8f24-477e-ae34-dea4b5b5340e",
   "metadata": {},
   "source": [
    "### Q9. A study was conducted to determine if there is an association between smoking status (smoker or non-smoker) and lung cancer diagnosis (yes or no). The results are shown in the contingency table below. Conduct a chi-square test for independence to determine if there is a significant association between smoking status and lung cancer diagnosis."
   ]
  },
  {
   "cell_type": "code",
   "execution_count": 9,
   "id": "945710ed-00e5-4849-9e32-3a9da36fd9c8",
   "metadata": {},
   "outputs": [
    {
     "name": "stdout",
     "output_type": "stream",
     "text": [
      "Chi-square statistic: 12.057347670250895\n",
      "P-value: 0.0005158863863703744\n",
      "Degrees of freedom: 1\n",
      "Expected frequencies table:\n",
      "[[ 45. 155.]\n",
      " [ 45. 155.]]\n",
      "\n",
      "Significance level: 0.05\n",
      "Reject the null hypothesis. There is a significant association between smoking status and lung cancer diagnosis.\n"
     ]
    }
   ],
   "source": [
    "import numpy as np\n",
    "from scipy.stats import chi2_contingency\n",
    "\n",
    "# Define the observed contingency table\n",
    "observed = np.array([[60, 140],\n",
    "                     [30, 170]])\n",
    "\n",
    "# Perform chi-square test\n",
    "chi2_stat, p_val, dof, expected = chi2_contingency(observed)\n",
    "\n",
    "# Output the results\n",
    "print(\"Chi-square statistic:\", chi2_stat)\n",
    "print(\"P-value:\", p_val)\n",
    "print(\"Degrees of freedom:\", dof)\n",
    "print(\"Expected frequencies table:\")\n",
    "print(expected)\n",
    "\n",
    "# Interpret the results\n",
    "alpha = 0.05\n",
    "print(\"\\nSignificance level:\", alpha)\n",
    "if p_val < alpha:\n",
    "    print(\"Reject the null hypothesis. There is a significant association between smoking status and lung cancer diagnosis.\")\n",
    "else:\n",
    "    print(\"Fail to reject the null hypothesis. There is no significant association between smoking status and lung cancer diagnosis.\")\n"
   ]
  },
  {
   "cell_type": "markdown",
   "id": "17ee8f41-cc82-4c5c-ba08-476067e1306a",
   "metadata": {},
   "source": [
    "### Q10. A study was conducted to determine if the proportion of people who prefer milk chocolate, dark chocolate, or white chocolate is different in the U.S. versus the U.K. A random sample of 500 people from the U.S. and a random sample of 500 people from the U.K. were surveyed. The results are shown in the contingency table below. Conduct a chi-square test for independence to determine if there is a significant association between chocolate preference and country of origin."
   ]
  },
  {
   "cell_type": "code",
   "execution_count": 10,
   "id": "969d6018-095a-4df9-be2f-9bdeb9ee8b64",
   "metadata": {},
   "outputs": [
    {
     "name": "stdout",
     "output_type": "stream",
     "text": [
      "Chi-square statistic: 13.393665158371041\n",
      "P-value: 0.0012348168997745918\n",
      "Degrees of freedom: 2\n",
      "Expected frequencies table:\n",
      "[[212.5 162.5 125. ]\n",
      " [212.5 162.5 125. ]]\n",
      "\n",
      "Significance level: 0.01\n",
      "Reject the null hypothesis. There is a significant association between chocolate preference and country of origin.\n"
     ]
    }
   ],
   "source": [
    "import numpy as np\n",
    "from scipy.stats import chi2_contingency\n",
    "\n",
    "# Define the observed contingency table\n",
    "observed = np.array([[200, 150, 150],\n",
    "                     [225, 175, 100]])\n",
    "\n",
    "# Perform chi-square test\n",
    "chi2_stat, p_val, dof, expected = chi2_contingency(observed)\n",
    "\n",
    "# Output the results\n",
    "print(\"Chi-square statistic:\", chi2_stat)\n",
    "print(\"P-value:\", p_val)\n",
    "print(\"Degrees of freedom:\", dof)\n",
    "print(\"Expected frequencies table:\")\n",
    "print(expected)\n",
    "\n",
    "# Interpret the results\n",
    "alpha = 0.01\n",
    "print(\"\\nSignificance level:\", alpha)\n",
    "if p_val < alpha:\n",
    "    print(\"Reject the null hypothesis. There is a significant association between chocolate preference and country of origin.\")\n",
    "else:\n",
    "    print(\"Fail to reject the null hypothesis. There is no significant association between chocolate preference and country of origin.\")\n"
   ]
  },
  {
   "cell_type": "markdown",
   "id": "75e04cf0-d77b-458d-b15a-38da8eb88274",
   "metadata": {},
   "source": [
    "### Q11. A random sample of 30 people was selected from a population with an unknown mean and standard deviation. The sample mean was found to be 72 and the sample standard deviation was found to be 10. Conduct a hypothesis test to determine if the population mean is significantly different from 70. Use a significance level of 0.05."
   ]
  },
  {
   "cell_type": "code",
   "execution_count": 14,
   "id": "15a7a659-c268-4e6e-8652-5bb98c69008c",
   "metadata": {},
   "outputs": [
    {
     "name": "stdout",
     "output_type": "stream",
     "text": [
      "t-value : 1.0954451150103321\n",
      "degree of freedom : 29\n",
      "critical value : 2.045229642132703\n",
      "Fail to reject the null hypothesis. There is not enough evidence to conclude that the population mean is significantly different from 70 at a 0.05 significance level.\n"
     ]
    }
   ],
   "source": [
    "import scipy.stats as stats\n",
    "\n",
    "# Sample data\n",
    "sample_mean = 72\n",
    "sample_std_dev = 10\n",
    "sample_size = 30\n",
    "population_mean = 70\n",
    "significance_level = 0.05\n",
    "\n",
    "# Calculate the t-value\n",
    "t_value = (sample_mean - population_mean) / (sample_std_dev / np.sqrt(sample_size))\n",
    "print(\"t-value :\", t_value)\n",
    "\n",
    "# Determine the degrees of freedom\n",
    "degrees_of_freedom = sample_size - 1\n",
    "print(\"degree of freedom :\", degrees_of_freedom)\n",
    "\n",
    "# Find the critical value\n",
    "critical_value = stats.t.ppf(1 - significance_level / 2, degrees_of_freedom)\n",
    "print(\"critical value :\", critical_value)\n",
    "\n",
    "# Compare the calculated t-value to the critical value\n",
    "if abs(t_value) > critical_value:\n",
    "    print(\"Reject the null hypothesis. There is enough evidence to conclude that the population mean is significantly different from 70 at a 0.05 significance level.\")\n",
    "else:\n",
    "    print(\"Fail to reject the null hypothesis. There is not enough evidence to conclude that the population mean is significantly different from 70 at a 0.05 significance level.\")"
   ]
  },
  {
   "cell_type": "markdown",
   "id": "1b2c184c-15bc-4bdd-b497-4e9e4c49c90a",
   "metadata": {},
   "source": [
    "$$  Assignment /n End  $$"
   ]
  },
  {
   "cell_type": "code",
   "execution_count": null,
   "id": "aefc4f2a-6674-4c13-9dfb-21ad02778387",
   "metadata": {},
   "outputs": [],
   "source": []
  }
 ],
 "metadata": {
  "kernelspec": {
   "display_name": "Python 3 (ipykernel)",
   "language": "python",
   "name": "python3"
  },
  "language_info": {
   "codemirror_mode": {
    "name": "ipython",
    "version": 3
   },
   "file_extension": ".py",
   "mimetype": "text/x-python",
   "name": "python",
   "nbconvert_exporter": "python",
   "pygments_lexer": "ipython3",
   "version": "3.10.8"
  }
 },
 "nbformat": 4,
 "nbformat_minor": 5
}
